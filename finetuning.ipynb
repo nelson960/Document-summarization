{
 "cells": [
  {
   "cell_type": "code",
   "execution_count": null,
   "metadata": {},
   "outputs": [],
   "source": [
    "import torch\n",
    "device = \"mps\" if torch.backends.mps.is_available() else \"cpu\""
   ]
  },
  {
   "cell_type": "code",
   "execution_count": null,
   "metadata": {},
   "outputs": [],
   "source": [
    "from datasets import load_dataset\n",
    "\n",
    "samples_fraction = 0.1\n",
    "\n",
    "\n",
    "dataset = load_dataset(\"cnn_dailymail\", \"3.0.0\")\n",
    "dataset = dataset.rename_columns({\"article\": \"document\", \"highlights\": \"summary\"})\n",
    "train_data = dataset[\"train\"].shuffle(seed=42).select(range(int(len(dataset[\"train\"]) * samples_fraction)))\n",
    "val_data = dataset[\"validation\"].shuffle(seed=42).select(range(int(len(dataset[\"validation\"]) * samples_fraction)))\n",
    "\n",
    "print(dataset[\"train\"])\n",
    "print(dataset[\"validation\"][0])"
   ]
  },
  {
   "cell_type": "code",
   "execution_count": null,
   "metadata": {},
   "outputs": [],
   "source": [
    "import torch\n",
    "from transformers import PegasusForConditionalGeneration, PegasusTokenizer\n",
    "\n",
    "\n",
    "# tokenizer\n",
    "model_name = \"google/pegasus-large\"\n",
    "tokenizer = PegasusTokenizer.from_pretrained(model_name)\n",
    "\n",
    "# preprocessing \n",
    "def preprocess_function(examples):\n",
    "    inputs = tokenizer(\n",
    "        examples[\"document\"], \n",
    "        padding=\"max_length\", \n",
    "        truncation=True, \n",
    "        max_length=1024\n",
    "    )\n",
    "    labels = tokenizer(\n",
    "        examples[\"summary\"], \n",
    "        padding=\"max_length\", \n",
    "        truncation=True, \n",
    "        max_length=256\n",
    "    )\n",
    "    inputs[\"labels\"] = labels[\"input_ids\"]\n",
    "    return inputs\n",
    "\n",
    "tokenized_train = train_data.map(preprocess_function, batched=True, remove_columns=[\"document\", \"summary\"])\n",
    "tokenized_val = val_data.map(preprocess_function, batched=True, remove_columns=[\"document\", \"summary\"])\n",
    "\n",
    "print(tokenized_train, tokenized_val)"
   ]
  },
  {
   "cell_type": "code",
   "execution_count": null,
   "metadata": {},
   "outputs": [],
   "source": [
    "from transformers import PegasusForConditionalGeneration, Trainer, TrainingArguments, BitsAndBytesConfig\n",
    "\n",
    "model = PegasusForConditionalGeneration.from_pretrained(model_name).to(device)  # Use \"cpu\" if on Mac M1/M2/M3\n",
    "model.gradient_checkpointing_enable()\n",
    "\n",
    "\n",
    "# Define training arguments\n",
    "\n",
    "training_args = TrainingArguments(\n",
    "    output_dir=\"./pegasus_finetuned\",\n",
    "    per_device_train_batch_size=1,  \n",
    "    gradient_accumulation_steps=4,  \n",
    "    evaluation_strategy=\"epoch\",\n",
    "    learning_rate=5e-5,\n",
    "    num_train_epochs=3,\n",
    "    bf16=True,  # ✅ Use bf16 instead of fp16 on Mac\n",
    "    save_total_limit=2,  \n",
    "    logging_dir=\"./logs\",\n",
    "    logging_steps=100,\n",
    "    report_to=\"none\"\n",
    ")\n",
    "\n",
    "\n",
    "# Trainer\n",
    "trainer = Trainer(\n",
    "    model=model,\n",
    "    args=training_args,\n",
    "    train_dataset=tokenized_train,\n",
    "    eval_dataset=tokenized_val,\n",
    ")\n",
    "\n",
    "# Start training\n",
    "trainer.train()"
   ]
  }
 ],
 "metadata": {
  "kernelspec": {
   "display_name": "ml",
   "language": "python",
   "name": "python3"
  },
  "language_info": {
   "codemirror_mode": {
    "name": "ipython",
    "version": 3
   },
   "file_extension": ".py",
   "mimetype": "text/x-python",
   "name": "python",
   "nbconvert_exporter": "python",
   "pygments_lexer": "ipython3",
   "version": "3.12.7"
  }
 },
 "nbformat": 4,
 "nbformat_minor": 2
}
